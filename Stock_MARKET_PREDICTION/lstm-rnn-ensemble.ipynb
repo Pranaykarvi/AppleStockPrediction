{
 "cells": [
  {
   "cell_type": "code",
   "execution_count": 17,
   "metadata": {
    "execution": {
     "iopub.execute_input": "2024-11-06T17:56:35.987735Z",
     "iopub.status.busy": "2024-11-06T17:56:35.987280Z",
     "iopub.status.idle": "2024-11-06T17:56:35.996210Z",
     "shell.execute_reply": "2024-11-06T17:56:35.994808Z",
     "shell.execute_reply.started": "2024-11-06T17:56:35.987692Z"
    },
    "trusted": true
   },
   "outputs": [],
   "source": [
    "import pandas as pd\n",
    "import numpy as np\n",
    "from sklearn.preprocessing import MinMaxScaler\n",
    "from sklearn.metrics import mean_squared_error, mean_absolute_error, r2_score\n",
    "from sklearn.model_selection import train_test_split, TimeSeriesSplit\n",
    "from keras.models import Sequential\n",
    "from keras.layers import LSTM, SimpleRNN, GRU, Dense, Dropout, Bidirectional\n",
    "from keras_tuner import HyperModel, RandomSearch\n",
    "from sklearn.linear_model import LinearRegression\n",
    "import matplotlib.pyplot as plt"
   ]
  },
  {
   "cell_type": "code",
   "execution_count": 18,
   "metadata": {
    "execution": {
     "iopub.execute_input": "2024-11-06T17:56:35.999293Z",
     "iopub.status.busy": "2024-11-06T17:56:35.998895Z",
     "iopub.status.idle": "2024-11-06T17:56:36.048129Z",
     "shell.execute_reply": "2024-11-06T17:56:36.046614Z",
     "shell.execute_reply.started": "2024-11-06T17:56:35.999252Z"
    },
    "trusted": true
   },
   "outputs": [],
   "source": [
    "# Load and preprocess the data\n",
    "StockData = pd.read_csv(r\"D:\\target\\ml\\Stock_MARKET_PREDICTION\\HistoricalQuotes.csv\")\n",
    "StockData['Date'] = pd.to_datetime(StockData['Date'])\n",
    "StockData = StockData.sort_values('Date')"
   ]
  },
  {
   "cell_type": "code",
   "execution_count": 19,
   "metadata": {
    "execution": {
     "iopub.execute_input": "2024-11-06T17:56:36.049965Z",
     "iopub.status.busy": "2024-11-06T17:56:36.049531Z",
     "iopub.status.idle": "2024-11-06T17:56:36.082916Z",
     "shell.execute_reply": "2024-11-06T17:56:36.081229Z",
     "shell.execute_reply.started": "2024-11-06T17:56:36.049923Z"
    },
    "trusted": true
   },
   "outputs": [
    {
     "name": "stderr",
     "output_type": "stream",
     "text": [
      "<>:2: SyntaxWarning: invalid escape sequence '\\$'\n",
      "<>:3: SyntaxWarning: invalid escape sequence '\\$'\n",
      "<>:4: SyntaxWarning: invalid escape sequence '\\$'\n",
      "<>:5: SyntaxWarning: invalid escape sequence '\\$'\n",
      "<>:2: SyntaxWarning: invalid escape sequence '\\$'\n",
      "<>:3: SyntaxWarning: invalid escape sequence '\\$'\n",
      "<>:4: SyntaxWarning: invalid escape sequence '\\$'\n",
      "<>:5: SyntaxWarning: invalid escape sequence '\\$'\n",
      "C:\\Users\\Asus\\AppData\\Local\\Temp\\ipykernel_7552\\2745802837.py:2: SyntaxWarning: invalid escape sequence '\\$'\n",
      "  StockData[' Close/Last'] = StockData[' Close/Last'].replace('[\\$,]', '', regex=True).astype(float)\n",
      "C:\\Users\\Asus\\AppData\\Local\\Temp\\ipykernel_7552\\2745802837.py:3: SyntaxWarning: invalid escape sequence '\\$'\n",
      "  StockData[' Open'] = StockData[' Open'].replace('[\\$,]', '', regex=True).astype(float)\n",
      "C:\\Users\\Asus\\AppData\\Local\\Temp\\ipykernel_7552\\2745802837.py:4: SyntaxWarning: invalid escape sequence '\\$'\n",
      "  StockData[' High'] = StockData[' High'].replace('[\\$,]', '', regex=True).astype(float)\n",
      "C:\\Users\\Asus\\AppData\\Local\\Temp\\ipykernel_7552\\2745802837.py:5: SyntaxWarning: invalid escape sequence '\\$'\n",
      "  StockData[' Low'] = StockData[' Low'].replace('[\\$,]', '', regex=True).astype(float)\n"
     ]
    }
   ],
   "source": [
    "# Remove dollar signs and convert to float\n",
    "StockData[' Close/Last'] = StockData[' Close/Last'].replace('[\\$,]', '', regex=True).astype(float)\n",
    "StockData[' Open'] = StockData[' Open'].replace('[\\$,]', '', regex=True).astype(float)\n",
    "StockData[' High'] = StockData[' High'].replace('[\\$,]', '', regex=True).astype(float)\n",
    "StockData[' Low'] = StockData[' Low'].replace('[\\$,]', '', regex=True).astype(float)"
   ]
  },
  {
   "cell_type": "code",
   "execution_count": 20,
   "metadata": {
    "execution": {
     "iopub.execute_input": "2024-11-06T17:56:36.085291Z",
     "iopub.status.busy": "2024-11-06T17:56:36.084804Z",
     "iopub.status.idle": "2024-11-06T17:56:36.099286Z",
     "shell.execute_reply": "2024-11-06T17:56:36.097837Z",
     "shell.execute_reply.started": "2024-11-06T17:56:36.085238Z"
    },
    "trusted": true
   },
   "outputs": [],
   "source": [
    "# Feature Engineering (Add more technical indicators)\n",
    "StockData['SMA_50'] = StockData[' Close/Last'].rolling(window=50).mean()\n",
    "StockData['SMA_200'] = StockData[' Close/Last'].rolling(window=200).mean()\n",
    "StockData['EMA_50'] = StockData[' Close/Last'].ewm(span=50, adjust=False).mean()\n",
    "StockData['EMA_200'] = StockData[' Close/Last'].ewm(span=200, adjust=False).mean()"
   ]
  },
  {
   "cell_type": "code",
   "execution_count": 21,
   "metadata": {
    "execution": {
     "iopub.execute_input": "2024-11-06T17:56:36.104152Z",
     "iopub.status.busy": "2024-11-06T17:56:36.103034Z",
     "iopub.status.idle": "2024-11-06T17:56:36.126459Z",
     "shell.execute_reply": "2024-11-06T17:56:36.124759Z",
     "shell.execute_reply.started": "2024-11-06T17:56:36.104066Z"
    },
    "trusted": true
   },
   "outputs": [
    {
     "data": {
      "text/html": [
       "<div>\n",
       "<style scoped>\n",
       "    .dataframe tbody tr th:only-of-type {\n",
       "        vertical-align: middle;\n",
       "    }\n",
       "\n",
       "    .dataframe tbody tr th {\n",
       "        vertical-align: top;\n",
       "    }\n",
       "\n",
       "    .dataframe thead th {\n",
       "        text-align: right;\n",
       "    }\n",
       "</style>\n",
       "<table border=\"1\" class=\"dataframe\">\n",
       "  <thead>\n",
       "    <tr style=\"text-align: right;\">\n",
       "      <th></th>\n",
       "      <th>Date</th>\n",
       "      <th>Close/Last</th>\n",
       "      <th>Volume</th>\n",
       "      <th>Open</th>\n",
       "      <th>High</th>\n",
       "      <th>Low</th>\n",
       "      <th>SMA_50</th>\n",
       "      <th>SMA_200</th>\n",
       "      <th>EMA_50</th>\n",
       "      <th>EMA_200</th>\n",
       "    </tr>\n",
       "  </thead>\n",
       "  <tbody>\n",
       "    <tr>\n",
       "      <th>2517</th>\n",
       "      <td>2010-03-01</td>\n",
       "      <td>29.8557</td>\n",
       "      <td>137312041</td>\n",
       "      <td>29.3928</td>\n",
       "      <td>29.9286</td>\n",
       "      <td>29.3500</td>\n",
       "      <td>NaN</td>\n",
       "      <td>NaN</td>\n",
       "      <td>29.855700</td>\n",
       "      <td>29.855700</td>\n",
       "    </tr>\n",
       "    <tr>\n",
       "      <th>2516</th>\n",
       "      <td>2010-03-02</td>\n",
       "      <td>29.8357</td>\n",
       "      <td>141486282</td>\n",
       "      <td>29.9900</td>\n",
       "      <td>30.1186</td>\n",
       "      <td>29.6771</td>\n",
       "      <td>NaN</td>\n",
       "      <td>NaN</td>\n",
       "      <td>29.854916</td>\n",
       "      <td>29.855501</td>\n",
       "    </tr>\n",
       "    <tr>\n",
       "      <th>2515</th>\n",
       "      <td>2010-03-03</td>\n",
       "      <td>29.9043</td>\n",
       "      <td>92846488</td>\n",
       "      <td>29.8486</td>\n",
       "      <td>29.9814</td>\n",
       "      <td>29.7057</td>\n",
       "      <td>NaN</td>\n",
       "      <td>NaN</td>\n",
       "      <td>29.856852</td>\n",
       "      <td>29.855987</td>\n",
       "    </tr>\n",
       "    <tr>\n",
       "      <th>2514</th>\n",
       "      <td>2010-03-04</td>\n",
       "      <td>30.1014</td>\n",
       "      <td>89591907</td>\n",
       "      <td>29.8971</td>\n",
       "      <td>30.1314</td>\n",
       "      <td>29.8043</td>\n",
       "      <td>NaN</td>\n",
       "      <td>NaN</td>\n",
       "      <td>29.866442</td>\n",
       "      <td>29.858428</td>\n",
       "    </tr>\n",
       "    <tr>\n",
       "      <th>2513</th>\n",
       "      <td>2010-03-05</td>\n",
       "      <td>31.2786</td>\n",
       "      <td>224647427</td>\n",
       "      <td>30.7057</td>\n",
       "      <td>31.3857</td>\n",
       "      <td>30.6614</td>\n",
       "      <td>NaN</td>\n",
       "      <td>NaN</td>\n",
       "      <td>29.921821</td>\n",
       "      <td>29.872560</td>\n",
       "    </tr>\n",
       "  </tbody>\n",
       "</table>\n",
       "</div>"
      ],
      "text/plain": [
       "           Date   Close/Last     Volume     Open     High      Low  SMA_50  \\\n",
       "2517 2010-03-01      29.8557  137312041  29.3928  29.9286  29.3500     NaN   \n",
       "2516 2010-03-02      29.8357  141486282  29.9900  30.1186  29.6771     NaN   \n",
       "2515 2010-03-03      29.9043   92846488  29.8486  29.9814  29.7057     NaN   \n",
       "2514 2010-03-04      30.1014   89591907  29.8971  30.1314  29.8043     NaN   \n",
       "2513 2010-03-05      31.2786  224647427  30.7057  31.3857  30.6614     NaN   \n",
       "\n",
       "      SMA_200     EMA_50    EMA_200  \n",
       "2517      NaN  29.855700  29.855700  \n",
       "2516      NaN  29.854916  29.855501  \n",
       "2515      NaN  29.856852  29.855987  \n",
       "2514      NaN  29.866442  29.858428  \n",
       "2513      NaN  29.921821  29.872560  "
      ]
     },
     "execution_count": 21,
     "metadata": {},
     "output_type": "execute_result"
    }
   ],
   "source": [
    "StockData.head()"
   ]
  },
  {
   "cell_type": "code",
   "execution_count": 22,
   "metadata": {
    "execution": {
     "iopub.execute_input": "2024-11-06T17:57:22.036369Z",
     "iopub.status.busy": "2024-11-06T17:57:22.035900Z",
     "iopub.status.idle": "2024-11-06T17:57:22.088539Z",
     "shell.execute_reply": "2024-11-06T17:57:22.087230Z",
     "shell.execute_reply.started": "2024-11-06T17:57:22.036321Z"
    },
    "trusted": true
   },
   "outputs": [
    {
     "data": {
      "text/html": [
       "<div>\n",
       "<style scoped>\n",
       "    .dataframe tbody tr th:only-of-type {\n",
       "        vertical-align: middle;\n",
       "    }\n",
       "\n",
       "    .dataframe tbody tr th {\n",
       "        vertical-align: top;\n",
       "    }\n",
       "\n",
       "    .dataframe thead th {\n",
       "        text-align: right;\n",
       "    }\n",
       "</style>\n",
       "<table border=\"1\" class=\"dataframe\">\n",
       "  <thead>\n",
       "    <tr style=\"text-align: right;\">\n",
       "      <th></th>\n",
       "      <th>Date</th>\n",
       "      <th>Close/Last</th>\n",
       "      <th>Volume</th>\n",
       "      <th>Open</th>\n",
       "      <th>High</th>\n",
       "      <th>Low</th>\n",
       "      <th>SMA_50</th>\n",
       "      <th>SMA_200</th>\n",
       "      <th>EMA_50</th>\n",
       "      <th>EMA_200</th>\n",
       "    </tr>\n",
       "  </thead>\n",
       "  <tbody>\n",
       "    <tr>\n",
       "      <th>count</th>\n",
       "      <td>2518</td>\n",
       "      <td>2518.000000</td>\n",
       "      <td>2.518000e+03</td>\n",
       "      <td>2518.000000</td>\n",
       "      <td>2518.000000</td>\n",
       "      <td>2518.000000</td>\n",
       "      <td>2469.000000</td>\n",
       "      <td>2319.000000</td>\n",
       "      <td>2518.000000</td>\n",
       "      <td>2518.000000</td>\n",
       "    </tr>\n",
       "    <tr>\n",
       "      <th>mean</th>\n",
       "      <td>2015-02-26 15:01:17.204130304</td>\n",
       "      <td>114.769522</td>\n",
       "      <td>7.258009e+07</td>\n",
       "      <td>114.728443</td>\n",
       "      <td>115.766415</td>\n",
       "      <td>113.690582</td>\n",
       "      <td>113.643078</td>\n",
       "      <td>111.626364</td>\n",
       "      <td>112.131486</td>\n",
       "      <td>105.858729</td>\n",
       "    </tr>\n",
       "    <tr>\n",
       "      <th>min</th>\n",
       "      <td>2010-03-01 00:00:00</td>\n",
       "      <td>29.835700</td>\n",
       "      <td>1.136205e+07</td>\n",
       "      <td>29.392800</td>\n",
       "      <td>29.928600</td>\n",
       "      <td>28.464300</td>\n",
       "      <td>34.084788</td>\n",
       "      <td>38.025390</td>\n",
       "      <td>29.854916</td>\n",
       "      <td>29.855501</td>\n",
       "    </tr>\n",
       "    <tr>\n",
       "      <th>25%</th>\n",
       "      <td>2012-08-24 18:00:00</td>\n",
       "      <td>66.822475</td>\n",
       "      <td>3.053026e+07</td>\n",
       "      <td>66.877150</td>\n",
       "      <td>67.475300</td>\n",
       "      <td>66.372950</td>\n",
       "      <td>68.730242</td>\n",
       "      <td>71.281352</td>\n",
       "      <td>66.991154</td>\n",
       "      <td>68.009692</td>\n",
       "    </tr>\n",
       "    <tr>\n",
       "      <th>50%</th>\n",
       "      <td>2015-02-28 12:00:00</td>\n",
       "      <td>101.090000</td>\n",
       "      <td>5.295469e+07</td>\n",
       "      <td>101.115000</td>\n",
       "      <td>102.085000</td>\n",
       "      <td>100.350000</td>\n",
       "      <td>101.836800</td>\n",
       "      <td>104.549999</td>\n",
       "      <td>100.983576</td>\n",
       "      <td>103.048082</td>\n",
       "    </tr>\n",
       "    <tr>\n",
       "      <th>75%</th>\n",
       "      <td>2017-08-27 06:00:00</td>\n",
       "      <td>154.630000</td>\n",
       "      <td>9.861006e+07</td>\n",
       "      <td>154.610000</td>\n",
       "      <td>155.735000</td>\n",
       "      <td>153.325000</td>\n",
       "      <td>155.682200</td>\n",
       "      <td>148.882225</td>\n",
       "      <td>153.836118</td>\n",
       "      <td>140.026769</td>\n",
       "    </tr>\n",
       "    <tr>\n",
       "      <th>max</th>\n",
       "      <td>2020-02-28 00:00:00</td>\n",
       "      <td>327.200000</td>\n",
       "      <td>4.624423e+08</td>\n",
       "      <td>324.740000</td>\n",
       "      <td>327.850000</td>\n",
       "      <td>323.350000</td>\n",
       "      <td>306.505400</td>\n",
       "      <td>241.833025</td>\n",
       "      <td>304.598887</td>\n",
       "      <td>255.356970</td>\n",
       "    </tr>\n",
       "    <tr>\n",
       "      <th>std</th>\n",
       "      <td>NaN</td>\n",
       "      <td>60.662405</td>\n",
       "      <td>5.663113e+07</td>\n",
       "      <td>60.546893</td>\n",
       "      <td>61.134456</td>\n",
       "      <td>60.085105</td>\n",
       "      <td>57.103035</td>\n",
       "      <td>49.834604</td>\n",
       "      <td>57.728244</td>\n",
       "      <td>52.784758</td>\n",
       "    </tr>\n",
       "  </tbody>\n",
       "</table>\n",
       "</div>"
      ],
      "text/plain": [
       "                                Date   Close/Last        Volume         Open  \\\n",
       "count                           2518  2518.000000  2.518000e+03  2518.000000   \n",
       "mean   2015-02-26 15:01:17.204130304   114.769522  7.258009e+07   114.728443   \n",
       "min              2010-03-01 00:00:00    29.835700  1.136205e+07    29.392800   \n",
       "25%              2012-08-24 18:00:00    66.822475  3.053026e+07    66.877150   \n",
       "50%              2015-02-28 12:00:00   101.090000  5.295469e+07   101.115000   \n",
       "75%              2017-08-27 06:00:00   154.630000  9.861006e+07   154.610000   \n",
       "max              2020-02-28 00:00:00   327.200000  4.624423e+08   324.740000   \n",
       "std                              NaN    60.662405  5.663113e+07    60.546893   \n",
       "\n",
       "              High          Low       SMA_50      SMA_200       EMA_50  \\\n",
       "count  2518.000000  2518.000000  2469.000000  2319.000000  2518.000000   \n",
       "mean    115.766415   113.690582   113.643078   111.626364   112.131486   \n",
       "min      29.928600    28.464300    34.084788    38.025390    29.854916   \n",
       "25%      67.475300    66.372950    68.730242    71.281352    66.991154   \n",
       "50%     102.085000   100.350000   101.836800   104.549999   100.983576   \n",
       "75%     155.735000   153.325000   155.682200   148.882225   153.836118   \n",
       "max     327.850000   323.350000   306.505400   241.833025   304.598887   \n",
       "std      61.134456    60.085105    57.103035    49.834604    57.728244   \n",
       "\n",
       "           EMA_200  \n",
       "count  2518.000000  \n",
       "mean    105.858729  \n",
       "min      29.855501  \n",
       "25%      68.009692  \n",
       "50%     103.048082  \n",
       "75%     140.026769  \n",
       "max     255.356970  \n",
       "std      52.784758  "
      ]
     },
     "execution_count": 22,
     "metadata": {},
     "output_type": "execute_result"
    }
   ],
   "source": [
    "StockData.describe()"
   ]
  },
  {
   "cell_type": "code",
   "execution_count": 23,
   "metadata": {
    "execution": {
     "iopub.execute_input": "2024-11-06T17:57:53.634979Z",
     "iopub.status.busy": "2024-11-06T17:57:53.634465Z",
     "iopub.status.idle": "2024-11-06T17:57:53.644051Z",
     "shell.execute_reply": "2024-11-06T17:57:53.642697Z",
     "shell.execute_reply.started": "2024-11-06T17:57:53.634932Z"
    },
    "trusted": true
   },
   "outputs": [
    {
     "data": {
      "text/plain": [
       "(2518, 10)"
      ]
     },
     "execution_count": 23,
     "metadata": {},
     "output_type": "execute_result"
    }
   ],
   "source": [
    "StockData.shape"
   ]
  },
  {
   "cell_type": "code",
   "execution_count": 24,
   "metadata": {
    "execution": {
     "iopub.execute_input": "2024-11-06T17:56:36.128222Z",
     "iopub.status.busy": "2024-11-06T17:56:36.127780Z",
     "iopub.status.idle": "2024-11-06T17:56:36.151933Z",
     "shell.execute_reply": "2024-11-06T17:56:36.150236Z",
     "shell.execute_reply.started": "2024-11-06T17:56:36.128178Z"
    },
    "trusted": true
   },
   "outputs": [],
   "source": [
    "features = [' Close/Last', 'SMA_50', 'SMA_200', 'EMA_50', 'EMA_200']\n",
    "StockData = StockData.dropna(subset=features)\n",
    "\n",
    "# Define the scaler\n",
    "scaler = MinMaxScaler(feature_range=(0, 1))\n",
    "scaled_data = scaler.fit_transform(StockData[features])"
   ]
  },
  {
   "cell_type": "code",
   "execution_count": 25,
   "metadata": {
    "execution": {
     "iopub.execute_input": "2024-11-06T17:56:36.154193Z",
     "iopub.status.busy": "2024-11-06T17:56:36.153728Z",
     "iopub.status.idle": "2024-11-06T17:56:36.165342Z",
     "shell.execute_reply": "2024-11-06T17:56:36.164030Z",
     "shell.execute_reply.started": "2024-11-06T17:56:36.154130Z"
    },
    "trusted": true
   },
   "outputs": [],
   "source": [
    "# Train-test split (80% train, 20% test)\n",
    "train_size = int(len(scaled_data) * 0.8)\n",
    "train_data, test_data = scaled_data[:train_size], scaled_data[train_size:]\n",
    "\n",
    "# Prepare sequences for LSTM/RNN/GRU\n",
    "sequence_length = 60\n",
    "X_train, y_train = [], []\n",
    "for i in range(sequence_length, len(train_data)):\n",
    "    X_train.append(train_data[i-sequence_length:i])\n",
    "    y_train.append(train_data[i, 0])  # Predict 'Close/Last'"
   ]
  },
  {
   "cell_type": "code",
   "execution_count": 26,
   "metadata": {
    "execution": {
     "iopub.execute_input": "2024-11-06T17:56:36.167960Z",
     "iopub.status.busy": "2024-11-06T17:56:36.166811Z",
     "iopub.status.idle": "2024-11-06T17:56:36.190730Z",
     "shell.execute_reply": "2024-11-06T17:56:36.189463Z",
     "shell.execute_reply.started": "2024-11-06T17:56:36.167917Z"
    },
    "trusted": true
   },
   "outputs": [],
   "source": [
    "X_train, y_train = np.array(X_train), np.array(y_train)\n",
    "\n",
    "X_train = np.reshape(X_train, (X_train.shape[0], X_train.shape[1], X_train.shape[2]))  # Shape for LSTM, RNN, GRU\n"
   ]
  },
  {
   "cell_type": "code",
   "execution_count": 27,
   "metadata": {
    "execution": {
     "iopub.execute_input": "2024-11-06T17:56:36.192935Z",
     "iopub.status.busy": "2024-11-06T17:56:36.192497Z",
     "iopub.status.idle": "2024-11-06T17:56:36.204693Z",
     "shell.execute_reply": "2024-11-06T17:56:36.203550Z",
     "shell.execute_reply.started": "2024-11-06T17:56:36.192888Z"
    },
    "trusted": true
   },
   "outputs": [],
   "source": [
    "X_test, y_test = [], []\n",
    "for i in range(sequence_length, len(test_data)):\n",
    "    X_test.append(test_data[i-sequence_length:i])\n",
    "    y_test.append(test_data[i, 0])\n",
    "\n",
    "X_test, y_test = np.array(X_test), np.array(y_test)\n",
    "X_test = np.reshape(X_test, (X_test.shape[0], X_test.shape[1], X_test.shape[2]))  # Shape for LSTM, RNN, GRU\n"
   ]
  },
  {
   "cell_type": "code",
   "execution_count": 28,
   "metadata": {},
   "outputs": [],
   "source": [
    "from sklearn.model_selection import train_test_split\n",
    "\n",
    "# Split X_train and y_train into training and validation sets\n",
    "X_train, X_val, y_train, y_val = train_test_split(X_train, y_train, test_size=0.2, random_state=42)\n"
   ]
  },
  {
   "cell_type": "code",
   "execution_count": 29,
   "metadata": {
    "execution": {
     "iopub.execute_input": "2024-11-06T17:56:36.207295Z",
     "iopub.status.busy": "2024-11-06T17:56:36.206393Z",
     "iopub.status.idle": "2024-11-06T17:56:36.223163Z",
     "shell.execute_reply": "2024-11-06T17:56:36.221657Z",
     "shell.execute_reply.started": "2024-11-06T17:56:36.207236Z"
    },
    "trusted": true
   },
   "outputs": [],
   "source": [
    "class EnhancedModel(HyperModel):\n",
    "    def build(self, hp):\n",
    "        model = Sequential()\n",
    "        \n",
    "        # Use GRU, LSTM, or Bidirectional LSTM based on hyperparameter\n",
    "        rnn_type = hp.Choice('rnn_type', values=['LSTM', 'GRU', 'BidirectionalLSTM'], default='LSTM')\n",
    "        units = hp.Int('units', min_value=50, max_value=200, step=50)\n",
    "\n",
    "        if rnn_type == 'LSTM':\n",
    "            model.add(LSTM(units=units, return_sequences=True, input_shape=(X_train.shape[1], X_train.shape[2])))\n",
    "        elif rnn_type == 'GRU':\n",
    "            model.add(GRU(units=units, return_sequences=True, input_shape=(X_train.shape[1], X_train.shape[2])))\n",
    "        else:  # Bidirectional LSTM\n",
    "            model.add(Bidirectional(LSTM(units=units, return_sequences=True), input_shape=(X_train.shape[1], X_train.shape[2])))\n",
    "        \n",
    "        model.add(Dropout(0.2))\n",
    "        \n",
    "        model.add(LSTM(units=units, return_sequences=False))\n",
    "        model.add(Dropout(0.2))\n",
    "        \n",
    "        model.add(Dense(units=25))\n",
    "        model.add(Dense(units=1))  # Output layer for the prediction\n",
    "\n",
    "        model.compile(optimizer='adam', loss='mean_absolute_percentage_error')\n",
    "        return model\n"
   ]
  },
  {
   "cell_type": "code",
   "execution_count": 30,
   "metadata": {
    "execution": {
     "iopub.execute_input": "2024-11-06T17:56:36.233284Z",
     "iopub.status.busy": "2024-11-06T17:56:36.232778Z",
     "iopub.status.idle": "2024-11-06T17:56:36.250188Z",
     "shell.execute_reply": "2024-11-06T17:56:36.248672Z",
     "shell.execute_reply.started": "2024-11-06T17:56:36.233236Z"
    },
    "trusted": true
   },
   "outputs": [
    {
     "name": "stdout",
     "output_type": "stream",
     "text": [
      "Trial 10 Complete [00h 00m 49s]\n",
      "val_loss: 4179.56591796875\n",
      "\n",
      "Best val_loss So Far: 21.605087280273438\n",
      "Total elapsed time: 00h 07m 53s\n"
     ]
    }
   ],
   "source": [
    "from kerastuner import RandomSearch\n",
    "\n",
    "tuner = RandomSearch(\n",
    "    EnhancedModel(),\n",
    "    objective='val_loss',\n",
    "    max_trials=10,\n",
    "    executions_per_trial=1,\n",
    "    directory='tuner_results',\n",
    "    project_name='time_series_rnn'\n",
    ")\n",
    "\n",
    "tuner.search(X_train, y_train, epochs=20, validation_data=(X_val, y_val))\n",
    "\n"
   ]
  },
  {
   "cell_type": "code",
   "execution_count": 31,
   "metadata": {},
   "outputs": [],
   "source": [
    "# # Define a selection function if you have multiple models\n",
    "# def select_best_model(models, X_val, y_val):\n",
    "#     best_score = float('inf')\n",
    "#     best_model = None\n",
    "\n",
    "#     for model in models:\n",
    "#         predictions = model.predict(X_val)\n",
    "#         score = mean_squared_error(y_val, predictions)\n",
    "#         if score < best_score:\n",
    "#             best_score = score\n",
    "#             best_model = model\n",
    "    \n",
    "#     return best_model\n",
    "\n",
    "# # Assuming lstm_model and rnn_model exist, add them to the list\n",
    "# best_model = select_best_model([lstm_model, rnn_model], X_val, y_val)\n",
    "\n"
   ]
  },
  {
   "cell_type": "code",
   "execution_count": 32,
   "metadata": {
    "execution": {
     "iopub.execute_input": "2024-11-06T17:56:36.253328Z",
     "iopub.status.busy": "2024-11-06T17:56:36.252806Z",
     "iopub.status.idle": "2024-11-06T17:56:37.945579Z",
     "shell.execute_reply": "2024-11-06T17:56:37.944157Z",
     "shell.execute_reply.started": "2024-11-06T17:56:36.253271Z"
    },
    "trusted": true
   },
   "outputs": [
    {
     "name": "stderr",
     "output_type": "stream",
     "text": [
      "C:\\Users\\Asus\\AppData\\Local\\Packages\\PythonSoftwareFoundation.Python.3.12_qbz5n2kfra8p0\\LocalCache\\local-packages\\Python312\\site-packages\\keras\\src\\layers\\rnn\\rnn.py:204: UserWarning: Do not pass an `input_shape`/`input_dim` argument to a layer. When using Sequential models, prefer using an `Input(shape)` object as the first layer in the model instead.\n",
      "  super().__init__(**kwargs)\n",
      "C:\\Users\\Asus\\AppData\\Local\\Packages\\PythonSoftwareFoundation.Python.3.12_qbz5n2kfra8p0\\LocalCache\\local-packages\\Python312\\site-packages\\keras\\src\\saving\\saving_lib.py:719: UserWarning: Skipping variable loading for optimizer 'adam', because it has 2 variables whereas the saved optimizer has 22 variables. \n",
      "  saveable.load_own_variables(weights_store.get(inner_path))\n"
     ]
    },
    {
     "name": "stdout",
     "output_type": "stream",
     "text": [
      "\u001b[1m13/13\u001b[0m \u001b[32m━━━━━━━━━━━━━━━━━━━━\u001b[0m\u001b[37m\u001b[0m \u001b[1m1s\u001b[0m 43ms/step\n",
      "Ensemble Model RMSE: 0.012356729794400473\n",
      "Ensemble Model MAE: 0.010066987603948824\n",
      "Ensemble Model R2: 0.9719982847378358\n"
     ]
    },
    {
     "data": {
      "image/png": "[encoded data removed]",
      "text/plain": [
       "<Figure size 1000x600 with 1 Axes>"
      ]
     },
     "metadata": {},
     "output_type": "display_data"
    }
   ],
   "source": [
    "scaler = MinMaxScaler(feature_range=(0, 1))\n",
    "scaler.fit(y_train.reshape(-1, 1))  # Fit only on training data\n",
    "best_model = tuner.get_best_models(num_models=1)[0]\n",
    "\n",
    "# Predict with the best model\n",
    "lstm_predictions = best_model.predict(X_test)\n",
    "lstm_predictions = lstm_predictions.reshape(-1, 1)  # Reshape to match the scaler\n",
    "\n",
    "# Inverse transform predictions to original scale\n",
    "lstm_predictions_rescaled = scaler.inverse_transform(lstm_predictions)\n",
    "y_test_rescaled = scaler.inverse_transform(y_test.reshape(-1, 1))\n",
    "\n",
    "from sklearn.metrics import mean_squared_error, mean_absolute_error, r2_score\n",
    "\n",
    "rmse_ensemble = np.sqrt(mean_squared_error(y_test_rescaled, lstm_predictions_rescaled))\n",
    "mae_ensemble = mean_absolute_error(y_test_rescaled, lstm_predictions_rescaled)\n",
    "r2_ensemble = r2_score(y_test_rescaled, lstm_predictions_rescaled)\n",
    "\n",
    "print(f\"Ensemble Model RMSE: {rmse_ensemble}\")\n",
    "print(f\"Ensemble Model MAE: {mae_ensemble}\")\n",
    "print(f\"Ensemble Model R2: {r2_ensemble}\")\n",
    "\n",
    "plt.figure(figsize=(10, 6))\n",
    "plt.plot(y_test_rescaled, color='blue', label='Real Stock Price')\n",
    "plt.plot(lstm_predictions_rescaled, color='red', linestyle='--', label='Predicted Stock Price')\n",
    "plt.title('Stock Price Prediction')\n",
    "plt.xlabel('Time')\n",
    "plt.ylabel('Stock Price')\n",
    "plt.legend()\n",
    "plt.grid(True)\n",
    "plt.show()\n",
    "\n",
    "\n",
    "\n",
    "\n",
    "\n",
    "\n",
    "\n"
   ]
  }
 ],
 "metadata": {
  "kaggle": {
   "accelerator": "none",
   "dataSources": [
    {
     "datasetId": 6025449,
     "sourceId": 9825670,
     "sourceType": "datasetVersion"
    }
   ],
   "dockerImageVersionId": 30786,
   "isGpuEnabled": false,
   "isInternetEnabled": true,
   "language": "python",
   "sourceType": "notebook"
  },
  "kernelspec": {
   "display_name": "Python 3",
   "language": "python",
   "name": "python3"
  },
  "language_info": {
   "codemirror_mode": {
    "name": "ipython",
    "version": 3
   },
   "file_extension": ".py",
   "mimetype": "text/x-python",
   "name": "python",
   "nbconvert_exporter": "python",
   "pygments_lexer": "ipython3",
   "version": "3.12.7"
  }
 },
 "nbformat": 4,
 "nbformat_minor": 4
}
